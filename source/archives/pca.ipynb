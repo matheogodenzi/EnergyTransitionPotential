{
 "cells": [
  {
   "cell_type": "markdown",
   "metadata": {},
   "source": [
    "# Reducing the dimensionnality of the datae"
   ]
  },
  {
   "cell_type": "code",
   "execution_count": 1,
   "metadata": {},
   "outputs": [],
   "source": [
    "import numpy as np\n",
    "import pandas as pd\n",
    "import matplotlib.pyplot as plt\n",
    "import seaborn as sns\n",
    "\n",
    "import sys\n",
    "import os\n",
    "\n",
    "# Dynamically add the 'utils' folder to the Python path\n",
    "sys.path.append(os.path.abspath(os.path.join(os.getcwd(), '../../source/')))\n",
    "\n",
    "# Now, you can import the functions\n",
    "from utils.pca import pca\n"
   ]
  },
  {
   "cell_type": "code",
   "execution_count": 2,
   "metadata": {},
   "outputs": [],
   "source": [
    "df = pd.read_csv(\"../../data/cleaned_data/numeric_covariates.csv\")"
   ]
  },
  {
   "cell_type": "code",
   "execution_count": 3,
   "metadata": {},
   "outputs": [
    {
     "name": "stdout",
     "output_type": "stream",
     "text": [
      "Non-numeric columns: Index([], dtype='object')\n"
     ]
    }
   ],
   "source": [
    "# Identify non-numeric columns\n",
    "non_numeric_cols = df.select_dtypes(exclude=[np.number]).columns\n",
    "print(f\"Non-numeric columns: {non_numeric_cols}\")\n",
    "\n",
    "# Drop non-numeric columns\n",
    "data = df.drop(columns=non_numeric_cols)"
   ]
  },
  {
   "cell_type": "code",
   "execution_count": 4,
   "metadata": {},
   "outputs": [
    {
     "name": "stdout",
     "output_type": "stream",
     "text": [
      "0        True\n",
      "1       False\n",
      "2       False\n",
      "3       False\n",
      "4       False\n",
      "        ...  \n",
      "2126    False\n",
      "2127    False\n",
      "2128    False\n",
      "2129    False\n",
      "2130    False\n",
      "Length: 2131, dtype: bool\n",
      "0       False\n",
      "1       False\n",
      "2       False\n",
      "3       False\n",
      "4       False\n",
      "        ...  \n",
      "2126    False\n",
      "2127    False\n",
      "2128    False\n",
      "2129    False\n",
      "2130    False\n",
      "Length: 2131, dtype: bool\n"
     ]
    }
   ],
   "source": [
    "# Verify if their are nan values \n",
    "print(data.isna().any(axis=1))\n",
    "\n",
    "# Handle NaNs (e.g., replace with mean)\n",
    "data = data.fillna(data.mean())\n",
    "\n",
    "# Handle NaNs (e.g., replace with mean)\n",
    "print(data.isna().any(axis=1))"
   ]
  },
  {
   "cell_type": "code",
   "execution_count": 5,
   "metadata": {},
   "outputs": [
    {
     "data": {
      "text/plain": [
       "array([[0.0000e+00, 1.9980e+03, 4.4400e+02, ..., 1.0000e+00, 0.0000e+00,\n",
       "        0.0000e+00],\n",
       "       [1.0000e+00, 1.2859e+04, 1.8840e+03, ..., 1.0000e+00, 0.0000e+00,\n",
       "        0.0000e+00],\n",
       "       [2.0000e+00, 5.6780e+03, 1.1970e+03, ..., 1.0000e+00, 0.0000e+00,\n",
       "        0.0000e+00],\n",
       "       ...,\n",
       "       [2.1280e+03, 0.0000e+00, 0.0000e+00, ..., 0.0000e+00, 0.0000e+00,\n",
       "        0.0000e+00],\n",
       "       [2.1290e+03, 0.0000e+00, 0.0000e+00, ..., 0.0000e+00, 0.0000e+00,\n",
       "        0.0000e+00],\n",
       "       [2.1300e+03, 7.6700e+02, 9.7000e+01, ..., 0.0000e+00, 0.0000e+00,\n",
       "        0.0000e+00]])"
      ]
     },
     "execution_count": 5,
     "metadata": {},
     "output_type": "execute_result"
    }
   ],
   "source": [
    "X = df.to_numpy()\n",
    "X"
   ]
  },
  {
   "cell_type": "code",
   "execution_count": 6,
   "metadata": {},
   "outputs": [
    {
     "name": "stdout",
     "output_type": "stream",
     "text": [
      "Centered data : [[-1.06500000e+03             nan             nan ...  3.52885969e-01\n",
      "  -5.67808541e-02 -7.03894885e-03]\n",
      " [-1.06400000e+03             nan             nan ...  3.52885969e-01\n",
      "  -5.67808541e-02 -7.03894885e-03]\n",
      " [-1.06300000e+03             nan             nan ...  3.52885969e-01\n",
      "  -5.67808541e-02 -7.03894885e-03]\n",
      " ...\n",
      " [ 1.06300000e+03             nan             nan ... -6.47114031e-01\n",
      "  -5.67808541e-02 -7.03894885e-03]\n",
      " [ 1.06400000e+03             nan             nan ... -6.47114031e-01\n",
      "  -5.67808541e-02 -7.03894885e-03]\n",
      " [ 1.06500000e+03             nan             nan ... -6.47114031e-01\n",
      "  -5.67808541e-02 -7.03894885e-03]]\n",
      "Covariance matrix : [[ 3.78607667e+05             nan             nan ... -1.71347887e+02\n",
      "   2.39732394e+01  6.78403756e-01]\n",
      " [            nan             nan             nan ...             nan\n",
      "              nan             nan]\n",
      " [            nan             nan             nan ...             nan\n",
      "              nan             nan]\n",
      " ...\n",
      " [-1.71347887e+02             nan             nan ...  2.28464672e-01\n",
      "  -3.67609379e-02 -4.55714106e-03]\n",
      " [ 2.39732394e+01             nan             nan ... -3.67609379e-02\n",
      "   5.35819327e-02 -3.99865169e-04]\n",
      " [ 6.78403756e-01             nan             nan ... -4.55714106e-03\n",
      "  -3.99865169e-04  6.99268346e-03]]\n"
     ]
    }
   ],
   "source": [
    "transformed_data, top_eigenvectors, explained_variance = pca(X, n_components=4)\n"
   ]
  },
  {
   "cell_type": "code",
   "execution_count": 7,
   "metadata": {},
   "outputs": [
    {
     "data": {
      "text/plain": [
       "array([[nan, nan, nan, nan],\n",
       "       [nan, nan, nan, nan],\n",
       "       [nan, nan, nan, nan],\n",
       "       ...,\n",
       "       [nan, nan, nan, nan],\n",
       "       [nan, nan, nan, nan],\n",
       "       [nan, nan, nan, nan]])"
      ]
     },
     "execution_count": 7,
     "metadata": {},
     "output_type": "execute_result"
    }
   ],
   "source": [
    "transformed_data"
   ]
  },
  {
   "cell_type": "code",
   "execution_count": null,
   "metadata": {},
   "outputs": [],
   "source": []
  }
 ],
 "metadata": {
  "kernelspec": {
   "display_name": "base",
   "language": "python",
   "name": "python3"
  },
  "language_info": {
   "codemirror_mode": {
    "name": "ipython",
    "version": 3
   },
   "file_extension": ".py",
   "mimetype": "text/x-python",
   "name": "python",
   "nbconvert_exporter": "python",
   "pygments_lexer": "ipython3",
   "version": "3.12.4"
  }
 },
 "nbformat": 4,
 "nbformat_minor": 2
}
